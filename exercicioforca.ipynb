{
  "nbformat": 4,
  "nbformat_minor": 0,
  "metadata": {
    "colab": {
      "provenance": [],
      "authorship_tag": "ABX9TyOxF0WfdnrI90vEJeV+0t9R",
      "include_colab_link": true
    },
    "kernelspec": {
      "name": "python3",
      "display_name": "Python 3"
    },
    "language_info": {
      "name": "python"
    }
  },
  "cells": [
    {
      "cell_type": "markdown",
      "metadata": {
        "id": "view-in-github",
        "colab_type": "text"
      },
      "source": [
        "<a href=\"https://colab.research.google.com/github/911leonardo/exerciciosuniara/blob/main/exercicioforca.ipynb\" target=\"_parent\"><img src=\"https://colab.research.google.com/assets/colab-badge.svg\" alt=\"Open In Colab\"/></a>"
      ]
    },
    {
      "cell_type": "code",
      "execution_count": 22,
      "metadata": {
        "colab": {
          "base_uri": "https://localhost:8080/"
        },
        "id": "5JB4fH1d8bn_",
        "outputId": "adb888ce-e62e-43c6-cf2f-4ceeef0601c9"
      },
      "outputs": [
        {
          "output_type": "stream",
          "name": "stdout",
          "text": [
            "Digite entre pedra,papel ou tesoura\n",
            "pedra\n",
            "pedra  X  tesoura\n",
            "pedra ganhou\n"
          ]
        }
      ],
      "source": [
        "import random\n",
        "\n",
        "numr = [1, 5, 6]\n",
        "numal = random.choice(numr)\n",
        "\n",
        "print(\"Digite entre pedra,papel ou tesoura\")\n",
        "leitura = input()\n",
        "\n",
        "match numal:\n",
        "  case 1:\n",
        "    leitura2 = \"pedra\"\n",
        "  case 5:\n",
        "    leitura2 = \"papel\"\n",
        "  case 6:\n",
        "    leitura2 = \"tesoura\"\n",
        "\n",
        "match leitura:\n",
        "  case \"pedra\":\n",
        "    soma = 1\n",
        "  case \"papel\":\n",
        "    soma = 5\n",
        "  case \"tesoura\":\n",
        "    soma = 6\n",
        "  case _:\n",
        "    soma = 20\n",
        "\n",
        "def texto():\n",
        "  print(leitura,\" X \", leitura2)\n",
        "\n",
        "soma = soma + numal\n",
        "\n",
        "match soma:\n",
        "  case 2:\n",
        "    texto()\n",
        "    print(\"empate\")\n",
        "  case 10:\n",
        "    texto()\n",
        "    print(\"empate\")\n",
        "  case 12:\n",
        "    texto()\n",
        "    print(\"empate\")\n",
        "  case 6:\n",
        "    texto()\n",
        "    print(\"papel ganhou\")\n",
        "  case 11:\n",
        "    texto()\n",
        "    print(\"tesoura ganhou\")\n",
        "  case 7:\n",
        "    texto()\n",
        "    print(\"pedra ganhou\")\n",
        "  case _:\n",
        "    print(\"erro voce nao digitou pedra, papel ou tesoura\")\n",
        "\n",
        "\n",
        "\n",
        "\n"
      ]
    }
  ]
}