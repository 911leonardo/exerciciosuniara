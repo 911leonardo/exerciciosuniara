{
  "nbformat": 4,
  "nbformat_minor": 0,
  "metadata": {
    "colab": {
      "provenance": [],
      "include_colab_link": true
    },
    "kernelspec": {
      "name": "python3",
      "display_name": "Python 3"
    },
    "language_info": {
      "name": "python"
    }
  },
  "cells": [
    {
      "cell_type": "markdown",
      "metadata": {
        "id": "view-in-github",
        "colab_type": "text"
      },
      "source": [
        "<a href=\"https://colab.research.google.com/github/911leonardo/exerciciosuniara/blob/main/LojaDeMotos.ipynb\" target=\"_parent\"><img src=\"https://colab.research.google.com/assets/colab-badge.svg\" alt=\"Open In Colab\"/></a>"
      ]
    },
    {
      "cell_type": "code",
      "execution_count": 9,
      "metadata": {
        "id": "CjH8A5DYeI9I"
      },
      "outputs": [],
      "source": [
        "# Base de Conhecimento\n",
        "# Leonardo Pereira Guedes Ra: 04718-052\n",
        "Motos = [\n",
        "    {\"Modelo\": \"CB 300F Twister\", \"Marca\": \"Honda\", \"Categoria\": \"Naked\"},\n",
        "    {\"Modelo\": \"CB 500F\", \"Marca\": \"Honda\", \"Categoria\": \"Naked\"},\n",
        "    {\"Modelo\": \"CB 650R\", \"Marca\": \"Honda\", \"Categoria\": \"Naked\"},\n",
        "    {\"Modelo\": \"CB 1000R\", \"Marca\": \"Honda\", \"Categoria\": \"Naked\"},\n",
        "    {\"Modelo\": \"XR 300R Tornado\", \"Marca\": \"Honda\", \"Categoria\": \"Trail\"},\n",
        "    {\"Modelo\": \"NXR 160 BROS\", \"Marca\": \"Honda\", \"Categoria\": \"Trail\"},\n",
        "    {\"Modelo\": \"SAHARA 300\", \"Marca\": \"Honda\", \"Categoria\": \"Trail\"},\n",
        "    {\"Modelo\": \"XRE 190\", \"Marca\": \"Honda\", \"Categoria\": \"Trail\"},\n",
        "    {\"Modelo\": \"CRF 250F\", \"Marca\": \"Honda\", \"Categoria\": \"Off Road\"},\n",
        "    {\"Modelo\": \"CRF 450\", \"Marca\": \"Honda\", \"Categoria\": \"Off Road\"},\n",
        "    {\"Modelo\": \"TRX 420 FOURTRAX\", \"Marca\": \"Honda\", \"Categoria\": \"Off Road\"},\n",
        "    {\"Modelo\": \"CBR 650R\", \"Marca\": \"Honda\", \"Categoria\": \"Sport\"},\n",
        "    {\"Modelo\": \"CBR 1000RR-R\", \"Marca\": \"Honda\", \"Categoria\": \"Sport\"},\n",
        "\n",
        "]\n",
        "\n",
        "# Regras de Recomendação\n",
        "regras = [\n",
        "    {\"Condição\": {\"Marca\": \"Honda\", \"Categoria\": \"Naked\"}, \"Recomendação\": [\"CB 300F Twister\",\"CB 500F\",\"CB 650R\",\"CB 1000R\"]},\n",
        "    {\"Condição\": {\"Marca\": \"Honda\", \"Categoria\": \"Trail\"}, \"Recomendação\": [\"XR 300R Tornado\",\"NXR 160 BROS\",\"SAHARA 300\",\"XRE 190\"]},\n",
        "    {\"Condição\": {\"Marca\": \"Honda\", \"Categoria\": \"Off Road\"}, \"Recomendação\": [\"CRF 250F\",\"CRF 450\",\"TRX 420 FOURTRAX\"]},\n",
        "    {\"Condição\": {\"Marca\": \"Honda\", \"Categoria\": \"Sport\"}, \"Recomendação\": [\"CBR 650R\",\"CBR 1000RR-R\"]},\n",
        "    # Adicione mais regras conforme necessário\n",
        "]\n"
      ]
    },
    {
      "cell_type": "code",
      "source": [
        "def recomendar_motos(preferencias):\n",
        "    recomendacoes = []\n",
        "    for regra in regras:\n",
        "        condicao = regra[\"Condição\"]\n",
        "        if (preferencias[\"Marca\"] == condicao[\"Marca\"] and\n",
        "                preferencias[\"Categoria\"] == condicao[\"Categoria\"]):\n",
        "            recomendacoes.extend(regra[\"Recomendação\"])\n",
        "    return recomendacoes\n"
      ],
      "metadata": {
        "id": "paQFjmBAen9M"
      },
      "execution_count": 10,
      "outputs": []
    },
    {
      "cell_type": "code",
      "source": [
        "def main():\n",
        "    # Coletar preferências do usuário\n",
        "    marca = input(\"Qual marca você prefere? \")\n",
        "    categoria = input(\"Qual categoria voce prefere? \")\n",
        "\n",
        "    preferencias = {\n",
        "        \"Marca\": marca,\n",
        "        \"Categoria\": categoria\n",
        "    }\n",
        "\n",
        "    # Obter recomendações\n",
        "    motos_recomendados = recomendar_motos(preferencias)\n",
        "\n",
        "    # Mostrar recomendações\n",
        "    if motos_recomendados:\n",
        "        print(\"Motos recomendadas:\")\n",
        "        for moto in motos_recomendados:\n",
        "            print(f\"- {moto}\")\n",
        "    else:\n",
        "        print(\"Nenhuma recomendação disponível para suas preferências.\")\n",
        "\n",
        "if __name__ == \"__main__\":\n",
        "    main()\n"
      ],
      "metadata": {
        "colab": {
          "base_uri": "https://localhost:8080/"
        },
        "id": "VVGk2FB3er-3",
        "outputId": "01e74e01-102b-4f4e-c876-0134a4fd5a3c"
      },
      "execution_count": 11,
      "outputs": [
        {
          "output_type": "stream",
          "name": "stdout",
          "text": [
            "Qual marca você prefere? Honda\n",
            "Qual categoria voce prefere? Naked\n",
            "Motos recomendadas:\n",
            "- CB 300F Twister\n",
            "- CB 500F\n",
            "- CB 650R\n",
            "- CB 1000R\n"
          ]
        }
      ]
    }
  ]
}